{
  "nbformat": 4,
  "nbformat_minor": 0,
  "metadata": {
    "colab": {
      "provenance": []
    },
    "kernelspec": {
      "name": "python3",
      "display_name": "Python 3"
    },
    "language_info": {
      "name": "python"
    }
  },
  "cells": [
    {
      "cell_type": "code",
      "execution_count": 2,
      "metadata": {
        "colab": {
          "base_uri": "https://localhost:8080/"
        },
        "id": "QS3DMRlWH6W2",
        "outputId": "a5927a3a-6608-4fe7-dd61-d55f1fe07a87"
      },
      "outputs": [
        {
          "output_type": "stream",
          "name": "stdout",
          "text": [
            "Workers: 2 | Time: 0.00 s\n",
            "Workers: 4 | Time: 0.00 s\n",
            "Workers: 8 | Time: 0.00 s\n",
            "   Workers  Time (s)   Speedup\n",
            "0        2  0.000085  1.000000\n",
            "1        4  0.000150  0.567628\n",
            "2        8  0.000056  1.511485\n"
          ]
        }
      ],
      "source": [
        "import os\n",
        "import time\n",
        "from PIL import Image\n",
        "from concurrent.futures import ThreadPoolExecutor\n",
        "import numpy as np\n",
        "import cupy as cp\n",
        "\n",
        "input_folder = '/content/drive/MyDrive/Images/PADC_dataset_image'\n",
        "output_folder = '/content/drive/MyDrive/Images/PADC_dataset_image/outputparallel'\n",
        "os.makedirs(output_folder, exist_ok=True)\n",
        "\n",
        "# Load watermark image\n",
        "watermark_img_path = '/content/ich6.jpeg' # Corrected file path\n",
        "watermark = Image.open(watermark_img_path).convert(\"RGBA\").resize((50, 50))\n",
        "\n",
        "def process_image(in_path, out_path):\n",
        "    img = Image.open(in_path).resize((128, 128)).convert(\"RGBA\")\n",
        "    # Example: Convert image to numpy, then cupy for GPU operations (here, just a dummy op)\n",
        "    img_np = np.array(img)\n",
        "    img_cp = cp.array(img_np)\n",
        "    # If you want to do some GPU-based manipulation, do it here. (We're just copying as-is.)\n",
        "    img_np = cp.asnumpy(img_cp)\n",
        "    img_gpu = Image.fromarray(img_np).convert(\"RGBA\")\n",
        "    # Overlay watermark\n",
        "    img_gpu.paste(watermark, (10, 10), watermark)\n",
        "    img_gpu = img_gpu.convert(\"RGB\")\n",
        "    img_gpu.save(out_path)\n",
        "\n",
        "def process_folder(class_subfolder):\n",
        "    class_path = os.path.join(input_folder, class_subfolder)\n",
        "    out_class_path = os.path.join(output_folder, class_subfolder)\n",
        "    os.makedirs(out_class_path, exist_ok=True)\n",
        "    tasks = []\n",
        "    for img_file in os.listdir(class_path):\n",
        "        if img_file.lower().endswith(('jpg', 'jpeg', 'png')):\n",
        "            in_path = os.path.join(class_path, img_file)\n",
        "            out_path = os.path.join(out_class_path, img_file)\n",
        "            tasks.append((in_path, out_path))\n",
        "    return tasks\n",
        "\n",
        "def parallel_process(num_workers):\n",
        "    tasks = []\n",
        "    class_folders = [f for f in os.listdir(input_folder) if os.path.isdir(os.path.join(input_folder, f))]\n",
        "    for class_folder in class_folders:\n",
        "        tasks.extend(process_folder(class_folder))\n",
        "    start = time.perf_counter()\n",
        "    with ThreadPoolExecutor(max_workers=num_workers) as executor:\n",
        "        futures = [executor.submit(process_image, in_path, out_path) for in_path, out_path in tasks]\n",
        "        [f.result() for f in futures]\n",
        "    duration = time.perf_counter() - start\n",
        "    return duration\n",
        "\n",
        "worker_counts = [2, 4, 8]\n",
        "results = []\n",
        "for workers in worker_counts:\n",
        "    t = parallel_process(workers)\n",
        "    print(f\"Workers: {workers} | Time: {t:.2f} s\")\n",
        "    results.append((workers, t))\n",
        "\n",
        "# Show result table\n",
        "import pandas as pd\n",
        "df = pd.DataFrame(results, columns=['Workers', 'Time (s)'])\n",
        "df['Speedup'] = df['Time (s)'].iloc[0] / df['Time (s)']\n",
        "print(df)"
      ]
    },
    {
      "cell_type": "code",
      "source": [],
      "metadata": {
        "id": "jgRNQWujKwEF"
      },
      "execution_count": null,
      "outputs": []
    }
  ]
}