{
  "nbformat": 4,
  "nbformat_minor": 0,
  "metadata": {
    "colab": {
      "provenance": []
    },
    "kernelspec": {
      "name": "python3",
      "display_name": "Python 3"
    },
    "language_info": {
      "name": "python"
    }
  },
  "cells": [
    {
      "cell_type": "markdown",
      "source": [
        "# Task 3 – Distributed Simulation: Split full dataset into 2 nodes and show results table"
      ],
      "metadata": {
        "id": "oz8EgF9ZNb_A"
      }
    },
    {
      "cell_type": "code",
      "source": [
        "\n",
        "import os\n",
        "import time\n",
        "from multiprocessing import Process, Manager\n",
        "from PIL import Image\n",
        "import pandas as pd\n",
        "\n",
        "input_folder = '/content/drive/MyDrive/Images/PADC_dataset_image'\n",
        "output_folder = '/content/drive/MyDrive/Images/PADC_dataset_image/outputdistributed2'\n",
        "os.makedirs(output_folder, exist_ok=True)\n",
        "\n",
        "# Load watermark image\n",
        "watermark_img_path = '/content/ich6.jpeg'\n",
        "watermark = Image.open(watermark_img_path).convert(\"RGBA\").resize((50, 50))\n",
        "\n",
        "# Gather all image paths in dataset (with subfolder info)\n",
        "image_rel_paths = []\n",
        "class_folders = [f for f in os.listdir(input_folder) if os.path.isdir(os.path.join(input_folder, f))]\n",
        "for class_folder in class_folders:\n",
        "    class_path = os.path.join(input_folder, class_folder)\n",
        "    for img_file in os.listdir(class_path):\n",
        "        if img_file.lower().endswith(('jpg', 'jpeg', 'png')):\n",
        "            image_rel_paths.append(os.path.join(class_folder, img_file))\n",
        "\n",
        "# Split into two (nearly) equal parts\n",
        "split_point = len(image_rel_paths) // 2\n",
        "node1_imgs = image_rel_paths[:split_point]\n",
        "node2_imgs = image_rel_paths[split_point:]\n",
        "\n",
        "def process_images(image_list, node_name, result_list, idx):\n",
        "    start = time.perf_counter()\n",
        "    for rel_path in image_list:\n",
        "        class_folder, img_file = os.path.split(rel_path)\n",
        "        in_path = os.path.join(input_folder, class_folder, img_file)\n",
        "        out_class_path = os.path.join(output_folder, f\"{node_name}\", class_folder)\n",
        "        os.makedirs(out_class_path, exist_ok=True)\n",
        "        out_path = os.path.join(out_class_path, img_file)\n",
        "        img = Image.open(in_path).resize((128,128)).convert(\"RGBA\")\n",
        "        img.paste(watermark, (10, 10), watermark)\n",
        "        img = img.convert(\"RGB\")\n",
        "        img.save(out_path)\n",
        "    duration = time.perf_counter() - start\n",
        "    result_list[idx] = duration\n",
        "\n",
        "if __name__ == '__main__':\n",
        "    m = Manager()\n",
        "    results = m.list([0, 0])\n",
        "    p1 = Process(target=process_images, args=(node1_imgs, 'node1', results, 0))\n",
        "    p2 = Process(target=process_images, args=(node2_imgs, 'node2', results, 1))\n",
        "    t0 = time.perf_counter()\n",
        "    p1.start()\n",
        "    p2.start()\n",
        "    p1.join()\n",
        "    p2.join()\n",
        "    t1 = time.perf_counter()\n",
        "\n",
        "    # Show tabular output\n",
        "    node_times = [results[0], results[1]]\n",
        "    df = pd.DataFrame({\n",
        "        'Node': ['Node 1', 'Node 2'],\n",
        "        'Duration (sec)': node_times\n",
        "    })\n",
        "    df['Percentage'] = 100 * df['Duration (sec)'] / sum(node_times)\n",
        "    print(df)\n",
        "    print(f\"\\nTotal Distributed Simulation Time: {t1-t0:.2f} seconds\")\n"
      ],
      "metadata": {
        "colab": {
          "base_uri": "https://localhost:8080/"
        },
        "id": "tQs2sFQuMoeW",
        "outputId": "5f9e6382-66e6-4499-f4ac-6f9ca2e4b703"
      },
      "execution_count": 7,
      "outputs": [
        {
          "output_type": "stream",
          "name": "stdout",
          "text": [
            "     Node  Duration (sec)  Percentage\n",
            "0  Node 1        0.000003   53.848695\n",
            "1  Node 2        0.000003   46.151305\n",
            "\n",
            "Total Distributed Simulation Time: 0.02 seconds\n"
          ]
        }
      ]
    },
    {
      "cell_type": "code",
      "source": [],
      "metadata": {
        "id": "cc0eBXn6NSBP"
      },
      "execution_count": null,
      "outputs": []
    }
  ]
}