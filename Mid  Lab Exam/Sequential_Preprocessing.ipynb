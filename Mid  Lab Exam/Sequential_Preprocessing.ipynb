{
  "nbformat": 4,
  "nbformat_minor": 0,
  "metadata": {
    "colab": {
      "provenance": []
    },
    "kernelspec": {
      "name": "python3",
      "display_name": "Python 3"
    },
    "language_info": {
      "name": "python"
    }
  },
  "cells": [
    {
      "cell_type": "code",
      "source": [
        "import os\n",
        "import time\n",
        "from PIL import Image\n",
        "\n",
        "input_folder = '/content/drive/MyDrive/Images/PADC_dataset_image'\n",
        "output_folder = '/content/drive/MyDrive/Images/PADC_dataset_image/outputseq'\n",
        "os.makedirs(output_folder, exist_ok=True)\n",
        "\n",
        "# Load watermark image (should be 128x128 or you can resize it below)\n",
        "watermark_img_path = '/content/ich6.jpeg'\n",
        "watermark = Image.open(watermark_img_path).convert(\"RGBA\").resize((50, 50)) # Adjust size as needed\n",
        "\n",
        "def process_image_class_folder(class_subfolder):\n",
        "    class_path = os.path.join(input_folder, class_subfolder)\n",
        "    out_class_path = os.path.join(output_folder, class_subfolder)\n",
        "    os.makedirs(out_class_path, exist_ok=True)\n",
        "    for img_file in os.listdir(class_path):\n",
        "        if img_file.lower().endswith(('jpg', 'jpeg', 'png')):\n",
        "            in_path = os.path.join(class_path, img_file)\n",
        "            out_path = os.path.join(out_class_path, img_file)\n",
        "            img = Image.open(in_path).resize((128, 128)).convert(\"RGBA\")\n",
        "            # Overlay watermark in top-left corner\n",
        "            img.paste(watermark, (10, 10), watermark)\n",
        "            img = img.convert(\"RGB\") # Convert back to jpeg format\n",
        "            img.save(out_path)\n",
        "\n",
        "start = time.perf_counter()\n",
        "class_folders = [f for f in os.listdir(input_folder) if os.path.isdir(os.path.join(input_folder, f))]\n",
        "for class_folder in class_folders:\n",
        "    process_image_class_folder(class_folder)\n",
        "total_time = time.perf_counter() - start\n",
        "print(f\"Sequential Processing Time: {total_time:.2f} seconds\")\n"
      ],
      "metadata": {
        "colab": {
          "base_uri": "https://localhost:8080/"
        },
        "id": "-Q_TYdWqKD2C",
        "outputId": "cb3357a8-03ae-4c38-baf0-748af51c7b0a"
      },
      "execution_count": 2,
      "outputs": [
        {
          "output_type": "stream",
          "name": "stdout",
          "text": [
            "Drive already mounted at /content/drive; to attempt to forcibly remount, call drive.mount(\"/content/drive\", force_remount=True).\n",
            "Sequential Processing Time: 0.01 seconds\n"
          ]
        }
      ]
    },
    {
      "cell_type": "code",
      "source": [],
      "metadata": {
        "id": "cGp8LQ17KJFg"
      },
      "execution_count": null,
      "outputs": []
    }
  ]
}