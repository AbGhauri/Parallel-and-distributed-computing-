{
  "cells": [
    {
      "cell_type": "code",
      "execution_count": null,
      "metadata": {
        "colab": {
          "base_uri": "https://localhost:8080/"
        },
        "id": "HSmR6eF791vQ",
        "outputId": "8e0584a5-08b3-481b-ee8a-aee06c51a160"
      },
      "outputs": [
        {
          "name": "stdout",
          "output_type": "stream",
          "text": [
            "List time: 0.07897329330444336\n"
          ]
        }
      ],
      "source": [
        "import numpy as np\n",
        "import time\n",
        "\n",
        "# Normal Python list\n",
        "lst = list(range(1_000_000))\n",
        "start = time.time()\n",
        "lst_squared = [x**2 for x in lst]\n",
        "print(\"List time:\", time.time() - start)"
      ]
    },
    {
      "cell_type": "code",
      "execution_count": null,
      "metadata": {
        "colab": {
          "base_uri": "https://localhost:8080/"
        },
        "id": "hNYVZ3zm-psV",
        "outputId": "1852f035-c808-4445-8bb5-d4e52ad502c9"
      },
      "outputs": [
        {
          "name": "stdout",
          "output_type": "stream",
          "text": [
            "Total CPU cores available: 2\n"
          ]
        }
      ],
      "source": [
        "import multiprocessing\n",
        "\n",
        "if __name__ == \"__main__\":\n",
        "\n",
        "    num_cores = multiprocessing.cpu_count()   # Detect available CPU cores\n",
        "    print(f\"Total CPU cores available: {num_cores}\")"
      ]
    },
    {
      "cell_type": "code",
      "execution_count": null,
      "metadata": {
        "colab": {
          "base_uri": "https://localhost:8080/"
        },
        "id": "3GQUEeoy-7r6",
        "outputId": "deeb112b-36be-4e40-9464-435072506740"
      },
      "outputs": [
        {
          "name": "stdout",
          "output_type": "stream",
          "text": [
            "Total CPU cores available: 2\n",
            "Task 0 running on process 1762Task 1 running on process 1763\n",
            "\n",
            "Task 2 running on process 1762Task 3 running on process 1763\n",
            "\n",
            "Task 4 running on process 1763\n",
            "Task 5 running on process 1762\n",
            "Results: ['Task 0 finished', 'Task 1 finished', 'Task 2 finished', 'Task 3 finished', 'Task 4 finished', 'Task 5 finished']\n"
          ]
        }
      ],
      "source": [
        "import multiprocessing\n",
        "import os\n",
        "import time\n",
        "\n",
        "# Function to simulate work\n",
        "def worker(task_id):\n",
        "\n",
        "    print(f\"Task {task_id} running on process {os.getpid()}\")\n",
        "    time.sleep(2)  # Simulate work\n",
        "    return f\"Task {task_id} finished\"\n",
        "\n",
        "if __name__ == \"__main__\":\n",
        "    num_cores = multiprocessing.cpu_count()   # Detect available CPU cores\n",
        "    print(f\"Total CPU cores available: {num_cores}\")\n",
        "\n",
        "    # Use exactly 6 cores (or fewer if system < 6)\n",
        "    with multiprocessing.Pool(processes=min(6, num_cores)) as pool:\n",
        "        results = pool.map(worker, range(6))\n",
        "\n",
        "    print(\"Results:\", results)"
      ]
    },
    {
      "cell_type": "code",
      "execution_count": null,
      "metadata": {
        "colab": {
          "base_uri": "https://localhost:8080/"
        },
        "id": "PAJBM6vyAuiT",
        "outputId": "afbdf83a-d7f4-428f-e6a0-bf35062d692b"
      },
      "outputs": [
        {
          "name": "stdout",
          "output_type": "stream",
          "text": [
            "Total CPU cores available: 2\n",
            "Hello from process 0 out of 1\n"
          ]
        }
      ],
      "source": [
        "import multiprocessing\n",
        "\n",
        "if __name__ == \"__main__\":\n",
        "    num_cores = multiprocessing.cpu_count()   # Detect available CPU cores\n",
        "    print(f\"Total CPU cores available: {num_cores}\")\n",
        "\n",
        "\n",
        "# hello_mpi.py - This code should be saved in a file named 'hello_mpi.py'\n",
        "# To run this code using MPI, you would use a command like:\n",
        "# mpiexec -n 4 python hello_mpi.py\n",
        "\n",
        "from mpi4py import MPI\n",
        "\n",
        "comm = MPI.COMM_WORLD        # global communicator\n",
        "rank = comm.Get_rank()       # process ID (0, 1, 2...)\n",
        "size = comm.Get_size()       # total number of processes\n",
        "print(f\"Hello from process {rank} out of {size}\")"
      ]
    },
    {
      "cell_type": "code",
      "execution_count": null,
      "metadata": {
        "id": "zqlwA-tRA0cz"
      },
      "outputs": [],
      "source": []
    },
    {
      "cell_type": "code",
      "execution_count": 2,
      "metadata": {
        "colab": {
          "base_uri": "https://localhost:8080/"
        },
        "id": "99c83c15",
        "outputId": "c347fe3e-d4b2-4a73-ebc4-8b7a977d3f8c"
      },
      "outputs": [
        {
          "name": "stdout",
          "output_type": "stream",
          "text": [
            "Defaulting to user installation because normal site-packages is not writeable\n",
            "Collecting mpi4py\n",
            "  Using cached mpi4py-4.1.0-cp312-cp312-win_amd64.whl.metadata (17 kB)\n",
            "Using cached mpi4py-4.1.0-cp312-cp312-win_amd64.whl (1.7 MB)\n",
            "Installing collected packages: mpi4py\n",
            "Successfully installed mpi4py-4.1.0\n"
          ]
        }
      ],
      "source": [
        "!pip install mpi4py"
      ]
    },
    {
      "cell_type": "code",
      "execution_count": null,
      "metadata": {
        "colab": {
          "base_uri": "https://localhost:8080/"
        },
        "id": "AKRwuWILBX8l",
        "outputId": "17c6a29a-4c1c-4267-fbfb-363ff711aa1d"
      },
      "outputs": [
        {
          "name": "stdout",
          "output_type": "stream",
          "text": [
            "Not enough processes to demonstrate send/recv. Need at least 2, but only 1 available.\n"
          ]
        }
      ],
      "source": [
        "from mpi4py import MPI\n",
        "\n",
        "comm = MPI.COMM_WORLD\n",
        "rank = comm.Get_rank()\n",
        "\n",
        "if rank == 0:\n",
        "    # Process 0 sends a message\n",
        "    data = \"Hello from process 0\"\n",
        "    comm.send(data, dest=1, tag=11)\n",
        "    print(f\"Process {rank} sent: {data}\")\n",
        "\n",
        "elif rank == 1:\n",
        "    # Process 1 receives the message\n",
        "    data = comm.recv(source=0, tag=11)\n",
        "    print(f\"Process {rank} received: {data}\")"
      ]
    },
    {
      "cell_type": "code",
      "execution_count": null,
      "metadata": {
        "id": "iGd141GABmvY"
      },
      "outputs": [
        {
          "ename": "NameError",
          "evalue": "name 'send_recv' is not defined",
          "output_type": "error",
          "traceback": [
            "\u001b[1;31m---------------------------------------------------------------------------\u001b[0m",
            "\u001b[1;31mNameError\u001b[0m                                 Traceback (most recent call last)",
            "Cell \u001b[1;32mIn[1], line 1\u001b[0m\n\u001b[1;32m----> 1\u001b[0m \u001b[43msend_recv\u001b[49m\u001b[38;5;241m.\u001b[39mpy\n\u001b[0;32m      2\u001b[0m \u001b[38;5;28;01mfrom\u001b[39;00m \u001b[38;5;21;01mmpi4py\u001b[39;00m \u001b[38;5;28;01mimport\u001b[39;00m MPI\n\u001b[0;32m      4\u001b[0m comm \u001b[38;5;241m=\u001b[39m MPI\u001b[38;5;241m.\u001b[39mCOMM_WORLD\n",
            "\u001b[1;31mNameError\u001b[0m: name 'send_recv' is not defined"
          ]
        }
      ],
      "source": [
        "from mpi4py import MPI\n",
        "\n",
        "comm = MPI.COMM_WORLD\n",
        "rank = comm.Get_rank()\n",
        "\n",
        "if rank == 0:\n",
        "    # Process 0 sends a message\n",
        "    data = \"Hello from process 0\"\n",
        "    comm.send(data, dest=1, tag=11)\n",
        "    print(f\"Process {rank} sent: {data}\")\n",
        "\n",
        "elif rank == 1:\n",
        "    # Process 1 receives the message\n",
        "    data = comm.recv(source=0, tag=11)\n",
        "    print(f\"Process {rank} received: {data}\")\n",
        "\n"
      ]
    },
    {
      "cell_type": "code",
      "execution_count": null,
      "metadata": {},
      "outputs": [],
      "source": []
    },
    {
      "cell_type": "code",
      "execution_count": 11,
      "metadata": {
        "colab": {
          "base_uri": "https://localhost:8080/"
        },
        "id": "1d12cb54",
        "outputId": "17875a43-9aaa-4e3d-8a68-7c07d660df67"
      },
      "outputs": [
        {
          "name": "stdout",
          "output_type": "stream",
          "text": [
            "MPI code saved to mpi_send_recv.py\n"
          ]
        }
      ],
      "source": [
        "# Save the MPI code to a file\n",
        "mpi_code = \"\"\"\n",
        "from mpi4py import MPI\n",
        "\n",
        "comm = MPI.COMM_WORLD\n",
        "rank = comm.Get_rank()\n",
        "size = comm.Get_size()\n",
        "\n",
        "if size >= 2:  # Check if there are at least 2 processes\n",
        "    if rank == 0:\n",
        "        # Process 0 sends a message\n",
        "        data = \"Hello from process 0\"\n",
        "        comm.send(data, dest=1, tag=11)\n",
        "        print(f\"Process {rank} sent: {data}\")\n",
        "\n",
        "    elif rank == 1:\n",
        "        # Process 1 receives the message\n",
        "        data = comm.recv(source=0, tag=11)\n",
        "        print(f\"Process {rank} received: {data}\")\n",
        "else:\n",
        "    print(f\"Not enough processes to demonstrate send/recv. Need at least 2, but only {{size}} available.\")\n",
        "\n",
        "\"\"\"\n",
        "\n",
        "with open(\"mpi_send_recv.py\", \"w\") as f:\n",
        "    f.write(mpi_code)\n",
        "\n",
        "print(\"MPI code saved to mpi_send_recv.py\")"
      ]
    },
    {
      "cell_type": "code",
      "execution_count": 12,
      "metadata": {
        "colab": {
          "base_uri": "https://localhost:8080/"
        },
        "id": "c3948659",
        "outputId": "56554ae2-5c8e-41b6-8b34-7fbb5f4358f8"
      },
      "outputs": [
        {
          "name": "stdout",
          "output_type": "stream",
          "text": [
            "--------------------------------------------------------------------------\n",
            "mpiexec has detected an attempt to run as root.\n",
            "\n",
            "Running as root is *strongly* discouraged as any mistake (e.g., in\n",
            "defining TMPDIR) or bug can result in catastrophic damage to the OS\n",
            "file system, leaving your system in an unusable state.\n",
            "\n",
            "We strongly suggest that you run mpiexec as a non-root user.\n",
            "\n",
            "You can override this protection by adding the --allow-run-as-root option\n",
            "to the cmd line or by setting two environment variables in the following way:\n",
            "the variable OMPI_ALLOW_RUN_AS_ROOT=1 to indicate the desire to override this\n",
            "protection, and OMPI_ALLOW_RUN_AS_ROOT_CONFIRM=1 to confirm the choice and\n",
            "add one more layer of certainty that you want to do so.\n",
            "We reiterate our advice against doing so - please proceed at your own risk.\n",
            "--------------------------------------------------------------------------\n"
          ]
        }
      ],
      "source": [
        "# Execute the MPI code with 2 processes\n",
        "!mpiexec -n 2 python mpi_send_recv.py"
      ]
    }
  ],
  "metadata": {
    "colab": {
      "provenance": []
    },
    "kernelspec": {
      "display_name": "base",
      "language": "python",
      "name": "python3"
    },
    "language_info": {
      "codemirror_mode": {
        "name": "ipython",
        "version": 3
      },
      "file_extension": ".py",
      "mimetype": "text/x-python",
      "name": "python",
      "nbconvert_exporter": "python",
      "pygments_lexer": "ipython3",
      "version": "3.12.4"
    }
  },
  "nbformat": 4,
  "nbformat_minor": 0
}
